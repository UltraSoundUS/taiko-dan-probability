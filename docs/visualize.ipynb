{
 "cells": [
  {
   "cell_type": "code",
   "execution_count": null,
   "metadata": {},
   "outputs": [],
   "source": [
    "import matplotlib.pyplot as plt\n",
    "import numpy as np\n",
    "from scipy import stats"
   ]
  },
  {
   "cell_type": "code",
   "execution_count": null,
   "metadata": {},
   "outputs": [],
   "source": [
    "# 最大コンボ数\n",
    "combos = 100\n",
    "\n",
    "# 事前分布で推論した場合の平均と分散\n",
    "mean_prior = combos / 3\n",
    "var_prior = (combos / 6) ** 2\n",
    "\n",
    "\n",
    "# 事前分布のパラメータ\n",
    "a_prior = mean_prior**2 / (var_prior - mean_prior)\n",
    "b_prior = mean_prior / (var_prior - mean_prior)"
   ]
  },
  {
   "cell_type": "code",
   "execution_count": null,
   "metadata": {},
   "outputs": [],
   "source": [
    "# データ\n",
    "data = np.array([1, 3, 6, 2, 7, 3, 6, 2, 8, 2, 4])"
   ]
  },
  {
   "cell_type": "code",
   "execution_count": null,
   "metadata": {},
   "outputs": [],
   "source": [
    "# 事後分布のパラメータ計算\n",
    "a_postior = a_prior + data.sum()\n",
    "b_postior = b_prior + data.size"
   ]
  },
  {
   "cell_type": "code",
   "execution_count": null,
   "metadata": {},
   "outputs": [],
   "source": [
    "# 推論の可視化\n",
    "# 負の二項分布に従う\n",
    "plt.figure(constrained_layout=True)\n",
    "x = np.arange(combos + 1)\n",
    "y = stats.nbinom.pmf(x, a_prior, 1 - 1 / (1 + b_prior))\n",
    "plt.plot(x, y, label=\"prior\")\n",
    "y = stats.nbinom.pmf(x, a_postior, 1 - 1 / (1 + b_postior))\n",
    "plt.plot(x, y, label=\"posterior\")\n",
    "y = stats.norm.pdf(\n",
    "    x,\n",
    "    loc=a_postior / b_postior,\n",
    "    scale=np.sqrt(a_postior * (1 + b_postior) / b_postior**2),\n",
    ")\n",
    "plt.plot(x, y, \"k--\", label=\"posterior (approximation)\")\n",
    "y = stats.nbinom.pmf(x, a_postior - a_prior, 1 - 1 / (1 + b_postior - b_prior))\n",
    "plt.plot(x, y, label=\"posterior (without prior)\")\n",
    "plt.legend()"
   ]
  }
 ],
 "metadata": {
  "kernelspec": {
   "display_name": "Python 3",
   "language": "python",
   "name": "python3"
  },
  "language_info": {
   "codemirror_mode": {
    "name": "ipython",
    "version": 3
   },
   "file_extension": ".py",
   "mimetype": "text/x-python",
   "name": "python",
   "nbconvert_exporter": "python",
   "pygments_lexer": "ipython3",
   "version": "3.9.13"
  }
 },
 "nbformat": 4,
 "nbformat_minor": 2
}
