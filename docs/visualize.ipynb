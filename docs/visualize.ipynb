{
 "cells": [
  {
   "cell_type": "code",
   "execution_count": null,
   "metadata": {},
   "outputs": [],
   "source": [
    "import matplotlib.pyplot as plt\n",
    "import numpy as np\n",
    "from scipy import stats"
   ]
  },
  {
   "cell_type": "code",
   "execution_count": null,
   "metadata": {},
   "outputs": [],
   "source": [
    "# 最大コンボ数\n",
    "combos = 100\n",
    "\n",
    "# 事前分布のパイパーパラメータ\n",
    "mu_prior = combos / 3\n",
    "beta_prior = 1\n",
    "a_prior = 1\n",
    "b_prior = 0.5 * mu_prior**2"
   ]
  },
  {
   "cell_type": "code",
   "execution_count": null,
   "metadata": {},
   "outputs": [],
   "source": [
    "# 事前分布の推論の可視化\n",
    "# Student's t 分布\n",
    "plt.figure(constrained_layout=True)\n",
    "x = np.linspace(0, combos, 10000)\n",
    "y = stats.t.pdf(\n",
    "    x,\n",
    "    df=2 * a_prior,\n",
    "    loc=mu_prior,\n",
    "    scale=np.sqrt((1 + beta_prior) * b_prior / (beta_prior * a_prior)),\n",
    ")\n",
    "plt.title(\"Prior distribution of mean\")\n",
    "plt.xlabel(\"mean\")\n",
    "plt.ylabel(\"probability density\")\n",
    "plt.plot(x, y)"
   ]
  }
 ],
 "metadata": {
  "kernelspec": {
   "display_name": "Python 3",
   "language": "python",
   "name": "python3"
  },
  "language_info": {
   "codemirror_mode": {
    "name": "ipython",
    "version": 3
   },
   "file_extension": ".py",
   "mimetype": "text/x-python",
   "name": "python",
   "nbconvert_exporter": "python",
   "pygments_lexer": "ipython3",
   "version": "3.9.13"
  }
 },
 "nbformat": 4,
 "nbformat_minor": 2
}
